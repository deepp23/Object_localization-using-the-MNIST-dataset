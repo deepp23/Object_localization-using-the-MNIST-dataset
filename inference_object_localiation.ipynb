{
 "cells": [
  {
   "cell_type": "code",
   "execution_count": null,
   "metadata": {},
   "outputs": [],
   "source": [
    "import tensorflow as tf\n",
    "\n",
    "loaded_model = tf.keras.models.load_model('/Users/deepmalikpalthya/Downloads/my_model-2.h5')"
   ]
  },
  {
   "cell_type": "code",
   "execution_count": null,
   "metadata": {},
   "outputs": [],
   "source": [
    "import cv2\n",
    "img_path = '/Users/deepmalikpalthya/Downloads/7.png'\n",
    "image = cv2.imread(img_path)\n",
    "\n",
    "height, width, channels = image.shape\n",
    "gray_image = cv2.cvtColor(image, cv2.COLOR_BGR2GRAY)"
   ]
  },
  {
   "cell_type": "code",
   "execution_count": null,
   "metadata": {},
   "outputs": [],
   "source": [
    "print(gray_image.shape)"
   ]
  },
  {
   "cell_type": "code",
   "execution_count": null,
   "metadata": {},
   "outputs": [],
   "source": [
    "import numpy as np\n",
    "def preprocess_image(image, image_size):\n",
    "    normalized_image = np.zeros((image_size, image_size), dtype=np.float32)\n",
    "    x = np.random.randint(0, image_size - 28)\n",
    "    y = np.random.randint(0, image_size - 28)\n",
    "    normalized_image[x:x + 28, y:y + 28] = image\n",
    "    normalized_image = normalized_image / 255.0  \n",
    "    return normalized_image\n",
    "\n",
    "new_image = preprocess_image(gray_image, 72)\n",
    "\n"
   ]
  },
  {
   "cell_type": "code",
   "execution_count": null,
   "metadata": {},
   "outputs": [],
   "source": [
    "new_image = new_image.reshape((1, 72, 72, 1))\n",
    "new_image.shape"
   ]
  },
  {
   "cell_type": "code",
   "execution_count": null,
   "metadata": {},
   "outputs": [],
   "source": [
    "predicted_bounding_box, predicted_class = loaded_model.predict(new_image)\n"
   ]
  },
  {
   "cell_type": "code",
   "execution_count": null,
   "metadata": {},
   "outputs": [],
   "source": [
    "predicted_class_index = predicted_class.argmax()\n",
    "print(predicted_class_index)"
   ]
  },
  {
   "cell_type": "code",
   "execution_count": null,
   "metadata": {},
   "outputs": [],
   "source": [
    "xmin, ymin, xmax, ymax = predicted_bounding_box[0]\n",
    "xmin, ymin, xmax, ymax = int(xmin), int(ymin), int(xmax), int(ymax)\n",
    "cv2.rectangle(image, (xmin, ymin), (xmax, ymax), (0, 255, 0), 2)  \n",
    "cv2.imshow('Image with Predicted Bounding Box', image)\n",
    "cv2.waitKey(0)"
   ]
  },
  {
   "cell_type": "code",
   "execution_count": null,
   "metadata": {},
   "outputs": [],
   "source": []
  }
 ],
 "metadata": {
  "kernelspec": {
   "display_name": "Python 3",
   "language": "python",
   "name": "python3"
  },
  "language_info": {
   "codemirror_mode": {
    "name": "ipython",
    "version": 3
   },
   "file_extension": ".py",
   "mimetype": "text/x-python",
   "name": "python",
   "nbconvert_exporter": "python",
   "pygments_lexer": "ipython3",
   "version": "3.12.2"
  }
 },
 "nbformat": 4,
 "nbformat_minor": 2
}
